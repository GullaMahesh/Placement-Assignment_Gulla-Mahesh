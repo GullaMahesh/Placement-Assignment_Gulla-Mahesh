{
 "cells": [
  {
   "cell_type": "markdown",
   "id": "1c6983e3",
   "metadata": {},
   "source": [
    "Python-1:\n",
    "\n",
    "Write a program that takes a string as input, and counts the frequency of each word in the string, there might\n",
    "be repeated characters in the string. Your task is to find the highest frequency and returns the length of the\n",
    "highest-frequency word.\n"
   ]
  },
  {
   "cell_type": "code",
   "execution_count": 4,
   "id": "5f2f7c33",
   "metadata": {},
   "outputs": [],
   "source": [
    "def frequency_word(string):\n",
    "    frequency_word = {}\n",
    "    for word in string.split():\n",
    "        if word in frequency_word:\n",
    "            frequency_word[word] += 1\n",
    "        else:\n",
    "            frequency_word[word] = 1\n",
    "    \n",
    "    high_frequency = 0\n",
    "    for frequency in frequency_word.values():\n",
    "        if frequency > high_frequency:\n",
    "            high_frequency = frequency\n",
    "            \n",
    "    high_fre_word_length = 0\n",
    "    for word, frequency in frequency_word.items():\n",
    "        if frequency == high_frequency and len(word) > high_fre_word_length:\n",
    "            high_fre_word_length = len(word)\n",
    "\n",
    "    return high_fre_word_length\n",
    "\n"
   ]
  },
  {
   "cell_type": "code",
   "execution_count": 5,
   "id": "757523d4",
   "metadata": {},
   "outputs": [
    {
     "data": {
      "text/plain": [
       "5"
      ]
     },
     "execution_count": 5,
     "metadata": {},
     "output_type": "execute_result"
    }
   ],
   "source": [
    "string = 'write write write all the number from from from 1 to 100'\n",
    "frequency_word(string)"
   ]
  },
  {
   "cell_type": "markdown",
   "id": "0a2a0df0",
   "metadata": {},
   "source": [
    "Example input - string = “write write write all the number from from from 1 to 100”\n",
    "Example output - 5\n",
    "Explanation - From the given string we can note that the most frequent words are “write” and “from” and\n",
    "the maximum value of both the values is “write” and its corresponding length is 5"
   ]
  },
  {
   "cell_type": "markdown",
   "id": "95a2b5b6",
   "metadata": {},
   "source": [
    "Test case-1"
   ]
  },
  {
   "cell_type": "code",
   "execution_count": 6,
   "id": "42aa7a46",
   "metadata": {},
   "outputs": [
    {
     "data": {
      "text/plain": [
       "5"
      ]
     },
     "execution_count": 6,
     "metadata": {},
     "output_type": "execute_result"
    }
   ],
   "source": [
    "string='i have read read the novel novel'\n",
    "frequency_word(string)"
   ]
  },
  {
   "cell_type": "markdown",
   "id": "86a77a2a",
   "metadata": {},
   "source": [
    "Example input - string = 'i have read read the novel novel'\n",
    "Example output - 5\n",
    "Explanation - From the given string we can note that the most frequent words are 'read' and 'novel' and\n",
    "the maximum value of both the values is 'novel' and its corresponding length is 5"
   ]
  },
  {
   "cell_type": "markdown",
   "id": "505c7308",
   "metadata": {},
   "source": [
    "Test case-2"
   ]
  },
  {
   "cell_type": "code",
   "execution_count": 8,
   "id": "f8d94d4d",
   "metadata": {},
   "outputs": [
    {
     "data": {
      "text/plain": [
       "7"
      ]
     },
     "execution_count": 8,
     "metadata": {},
     "output_type": "execute_result"
    }
   ],
   "source": [
    "string='i have watched watched the movie five five times'\n",
    "frequency_word(string)"
   ]
  },
  {
   "cell_type": "markdown",
   "id": "6f2ca461",
   "metadata": {},
   "source": [
    "Example input - string = 'i have watched watched the movie five five times'\n",
    "Example output - 7\n",
    "Explanation - From the given string we can note that the most frequent words are 'watched' and 'five' and the maximum value of both the values is 'watched' and its corresponding length is 7"
   ]
  },
  {
   "cell_type": "code",
   "execution_count": null,
   "id": "0afe0bff",
   "metadata": {},
   "outputs": [],
   "source": []
  }
 ],
 "metadata": {
  "kernelspec": {
   "display_name": "Python 3 (ipykernel)",
   "language": "python",
   "name": "python3"
  },
  "language_info": {
   "codemirror_mode": {
    "name": "ipython",
    "version": 3
   },
   "file_extension": ".py",
   "mimetype": "text/x-python",
   "name": "python",
   "nbconvert_exporter": "python",
   "pygments_lexer": "ipython3",
   "version": "3.9.12"
  }
 },
 "nbformat": 4,
 "nbformat_minor": 5
}
