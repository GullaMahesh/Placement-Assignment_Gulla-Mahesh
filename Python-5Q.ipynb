{
 "cells": [
  {
   "cell_type": "markdown",
   "id": "f4cddc59",
   "metadata": {},
   "source": [
    "Python-5Q:\n",
    "    Write a program to download the data from the given API link and then extract the following data with\n",
    "proper formatting\n",
    "Link - http://api.tvmaze.com/singlesearch/shows?q=westworld&embed=episodes"
   ]
  },
  {
   "cell_type": "code",
   "execution_count": 6,
   "id": "c89e7692",
   "metadata": {},
   "outputs": [
    {
     "name": "stdout",
     "output_type": "stream",
     "text": [
      "id: 1371\n",
      "url: https://www.tvmaze.com/shows/1371/westworld\n",
      "name: Westworld\n",
      "type: Scripted\n",
      "runtime: 60\n"
     ]
    }
   ],
   "source": [
    "import requests\n",
    "\n",
    "# link\n",
    "api_link = \"http://api.tvmaze.com/singlesearch/shows?q=westworld&embed=episodes\"\n",
    "\n",
    "# Send GET request to the API\n",
    "response = requests.get(api_link)\n",
    "\n",
    "# Check if the request was successful (status code 200)\n",
    "if response.status_code == 200:\n",
    "    # Extract necessary data from the JSON response\n",
    "    data = response.json()\n",
    "\n",
    "    # Extract show information\n",
    "    id = data[\"id\"]\n",
    "    url = data[\"url\"]\n",
    "    name = data[\"name\"]\n",
    "    type = data[\"type\"]\n",
    "    runtime = data[\"runtime\"]\n",
    "    \n",
    "    #printing extracted information in proper formatting\n",
    "    print(\"id:\",id)\n",
    "    print(\"url:\",url)\n",
    "    print(\"name:\",name)\n",
    "    print(\"type:\",type)\n",
    "    print(\"runtime:\",runtime)\n",
    "else:\n",
    "    print(\"Error occurred while fetching data. Status code:\", response.status_code)"
   ]
  },
  {
   "cell_type": "code",
   "execution_count": null,
   "id": "ae183aab",
   "metadata": {},
   "outputs": [],
   "source": []
  }
 ],
 "metadata": {
  "kernelspec": {
   "display_name": "Python 3 (ipykernel)",
   "language": "python",
   "name": "python3"
  },
  "language_info": {
   "codemirror_mode": {
    "name": "ipython",
    "version": 3
   },
   "file_extension": ".py",
   "mimetype": "text/x-python",
   "name": "python",
   "nbconvert_exporter": "python",
   "pygments_lexer": "ipython3",
   "version": "3.9.12"
  }
 },
 "nbformat": 4,
 "nbformat_minor": 5
}
